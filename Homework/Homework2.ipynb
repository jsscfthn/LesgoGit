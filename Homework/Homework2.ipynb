{
 "cells": [
  {
   "cell_type": "code",
   "execution_count": 9,
   "id": "a316028d",
   "metadata": {},
   "outputs": [],
   "source": [
    "# This calculator calculates the ratio of total properties to static properties of air in isentropic flows\n",
    "# The properties used for this calculator are the specific heat ratio (gamma) and mach number (mach)\n",
    "class IsenRel():\n",
    "    def __init__(self,gamma,mach):\n",
    "        self.gamma = gamma\n",
    "        self.mach = mach\n",
    "        \n",
    "    def calc_To_T(self):\n",
    "        # Calculating ratio of total temperature to static temperature\n",
    "        return (1+((self.gamma-1)/2)*(self.mach)**2)\n",
    "    \n",
    "    def calc_Po_P(self):\n",
    "        # Calculating ratio of total pressure to static pressure\n",
    "        return ((1+((self.gamma-1)/2)*(self.mach)**2))**(self.gamma/(self.gamma-1))\n",
    "    \n",
    "    def calc_Ro_R(self):\n",
    "        # Calculating ratio of total density to static density\n",
    "        return ((1+((self.gamma-1)/2)*(self.mach)**2))**(1/(self.gamma-1))"
   ]
  },
  {
   "cell_type": "code",
   "execution_count": 14,
   "id": "10ef23f5",
   "metadata": {},
   "outputs": [
    {
     "name": "stdout",
     "output_type": "stream",
     "text": [
      "The ratio of total temperature to static temperature is 3.25\n",
      "The ratio of total pressure to static pressure is 34.328125\n",
      "The ratio of total density to static density is 10.5625\n"
     ]
    }
   ],
   "source": [
    "# Insert the values of gamma and mach number here\n",
    "isen_rel = IsenRel(1.5,3)\n",
    "# Display To/T here \n",
    "print(\"The ratio of total temperature to static temperature is\",isen_rel.calc_To_T())\n",
    "# Display Po/P here\n",
    "print(\"The ratio of total pressure to static pressure is\",isen_rel.calc_Po_P())\n",
    "# Display Ro/R here\n",
    "print(\"The ratio of total density to static density is\",isen_rel.calc_Ro_R())"
   ]
  },
  {
   "cell_type": "code",
   "execution_count": null,
   "id": "04194acc",
   "metadata": {},
   "outputs": [],
   "source": []
  }
 ],
 "metadata": {
  "kernelspec": {
   "display_name": "Python 3",
   "language": "python",
   "name": "python3"
  },
  "language_info": {
   "codemirror_mode": {
    "name": "ipython",
    "version": 3
   },
   "file_extension": ".py",
   "mimetype": "text/x-python",
   "name": "python",
   "nbconvert_exporter": "python",
   "pygments_lexer": "ipython3",
   "version": "3.8.8"
  }
 },
 "nbformat": 4,
 "nbformat_minor": 5
}
